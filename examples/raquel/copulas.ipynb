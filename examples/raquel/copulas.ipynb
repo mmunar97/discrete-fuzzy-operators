{
 "cells": [
  {
   "cell_type": "code",
   "execution_count": 1,
   "outputs": [
    {
     "data": {
      "text/plain": "True"
     },
     "execution_count": 1,
     "metadata": {},
     "output_type": "execute_result"
    }
   ],
   "source": [
    "from discrete_fuzzy_operators.builtin_operators.unit.copulas import CopulaExamples\n",
    "from discrete_fuzzy_operators.base.operators.binary_operators.unit.suboperators.fuzzy_unit_aggregation_suboperators.unit_copula import FuzzyUnitCopula\n",
    "k=0.5\n",
    "f = FuzzyUnitCopula(lambda x,y: x * y + k * x * (1 - x) * y * (1 - y),check_properties_in_load=False)\n",
    "#f.plot_operator()\n",
    "f.is_copula()\n"
   ],
   "metadata": {
    "collapsed": false,
    "ExecuteTime": {
     "end_time": "2024-10-02T15:19:53.674220Z",
     "start_time": "2024-10-02T15:19:49.566251200Z"
    }
   },
   "id": "initial_id"
  },
  {
   "cell_type": "code",
   "execution_count": null,
   "outputs": [],
   "source": [
    "from numpy import isclose\n",
    "if isclose(-5.551115123125783e-17,0):\n",
    "    print(\"Exit!\")"
   ],
   "metadata": {
    "collapsed": false
   },
   "id": "91dc69f885350792"
  }
 ],
 "metadata": {
  "kernelspec": {
   "display_name": "Python 3",
   "language": "python",
   "name": "python3"
  },
  "language_info": {
   "codemirror_mode": {
    "name": "ipython",
    "version": 2
   },
   "file_extension": ".py",
   "mimetype": "text/x-python",
   "name": "python",
   "nbconvert_exporter": "python",
   "pygments_lexer": "ipython2",
   "version": "2.7.6"
  }
 },
 "nbformat": 4,
 "nbformat_minor": 5
}
