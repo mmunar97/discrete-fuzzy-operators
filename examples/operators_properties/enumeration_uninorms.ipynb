{
 "cells": [
  {
   "cell_type": "code",
   "execution_count": 1,
   "metadata": {
    "ExecuteTime": {
     "end_time": "2024-09-16T08:33:59.068102400Z",
     "start_time": "2024-09-16T08:33:58.743854Z"
    }
   },
   "outputs": [],
   "source": [
    "import numpy, time\n",
    "from typing import Dict, List, Tuple"
   ]
  },
  {
   "cell_type": "code",
   "execution_count": 6,
   "metadata": {
    "ExecuteTime": {
     "end_time": "2024-09-16T08:40:25.184319900Z",
     "start_time": "2024-09-16T08:40:25.126913900Z"
    }
   },
   "outputs": [
    {
     "ename": "SyntaxError",
     "evalue": "EOL while scanning string literal (2796552753.py, line 73)",
     "output_type": "error",
     "traceback": [
      "\u001B[1;36m  Cell \u001B[1;32mIn[6], line 73\u001B[1;36m\u001B[0m\n\u001B[1;33m    \"\"\"\"\"\"\"\u001B[0m\n\u001B[1;37m           ^\u001B[0m\n\u001B[1;31mSyntaxError\u001B[0m\u001B[1;31m:\u001B[0m EOL while scanning string literal\n"
     ]
    }
   ],
   "source": [
    "def generate_row_compensation_space(previous_row: List,\n",
    "                                    admissible_range: Tuple[int, int],\n",
    "                                    max_vector_size: int,\n",
    "                                    row_position: int,\n",
    "                                    recursive_step: int = 0,\n",
    "                                    row_list: List = None) -> List[int]:\n",
    "    \"\"\"\n",
    "    A generator which builds are possible vectors of a certain size (max_vector_size) that are increasing, where its\n",
    "    entries are taken from a range (admissible_range, representing a discrete interval [a,b]) and component-wise are \n",
    "    bigger than a given vector (previous_row).\n",
    "\n",
    "    Args:\n",
    "        previous_row: A list of integers, representing the vector whose entries are the lower-bounds of the generated vectors.\n",
    "        admissible_range: A tuple of two integers, representing the interval from which the candidate values will be taken.\n",
    "        max_vector_size: An integer, representing the size of the vector to be generated.\n",
    "        recursive_step: An integer, representing the number of recursive calls. It is used as the stop criterion.\n",
    "        row_list: A list of integers, representing the generated vector.\n",
    "\n",
    "    Returns:\n",
    "        A list of integers, representing the vector with size max_vector_size and which entries are in increasing order.\n",
    "    \"\"\"\n",
    "    assert max_vector_size <= len(previous_row), \"Number of entries of the generated vector is greater than the size of the bound vector. Expected to be less than or equal to its size.\"\n",
    "    \n",
    "    min_value = admissible_range[0]\n",
    "    max_value = admissible_range[1]\n",
    "    \n",
    "    if row_list is None:\n",
    "        row_list = []\n",
    "\n",
    "    if recursive_step == max_vector_size:\n",
    "        yield row_list\n",
    "    else:\n",
    "        minimum_row_value = min_value\n",
    "\n",
    "        if len(previous_row) > 0:\n",
    "            minimum_row_value = max(min_value, previous_row[recursive_step])\n",
    "\n",
    "        for i in range(minimum_row_value, max_value + 1):\n",
    "            if min(recursive_step,row_position) <= i <= max(recursive_step,row_position):\n",
    "                new_row = row_list.copy()\n",
    "                new_row.append(i)\n",
    "                yield from generate_row_compensation_space(previous_row=previous_row,\n",
    "                                                           admissible_range=(i,max_value),\n",
    "                                                           max_vector_size=max_vector_size,\n",
    "                                                           row_position=row_position,\n",
    "                                                           recursive_step=recursive_step+1,\n",
    "                                                           row_list=new_row)\n",
    "            else:\n",
    "                continue\n",
    "                \n",
    "def generate_recursive_compensation_space(n: int, e: int, row: int, previous_rows: List):\n",
    "    if row == n:\n",
    "        yield previous_rows\n",
    "    else:\n",
    "        previous_boundary = previous_rows[len(previous_rows)-1]\n",
    "        for next_row in generate_row_compensation_space(previous_row=previous_boundary, \n",
    "                                                        admissible_range=(0,row+1), \n",
    "                                                        max_vector_size=e,\n",
    "                                                        row_position=row+1):\n",
    "            if (row+1) == n:\n",
    "                if next_row[0] == 0 or next_row[0] == n: #Every discrete uninorms satisfies that U(n,0)=0 or U(n,0)=n.\n",
    "                    next_iteration_rows = previous_rows.copy()\n",
    "                    next_iteration_rows.append(next_row)\n",
    "                    yield from generate_recursive_compensation_space(n=n, e=e, row=row+1, previous_rows=next_iteration_rows)\n",
    "                else:\n",
    "                    continue\n",
    "            else:\n",
    "                next_iteration_rows = previous_rows.copy()\n",
    "                next_iteration_rows.append(next_row)\n",
    "                yield from generate_recursive_compensation_space(n=n, e=e, row=row+1, previous_rows=next_iteration_rows)\n",
    "                \n",
    "def generate_compensation_spaces(n: int, e: int):\n",
    "    boundary = [i for i in range(0, e)]\n",
    "    row = e+1\n",
    "    \n",
    "    for seed in generate_row_compensation_space(previous_row=boundary, \n",
    "                                                admissible_range=(0,row), \n",
    "                                                max_vector_size=e,\n",
    "                                                row_position=row):\n",
    "\n",
    "        for compensation_space in generate_recursive_compensation_space(n=n, e=e, row=row, previous_rows=[seed]):\n",
    "            yield numpy.flipud(numpy.array(compensation_space))"
   ]
  },
  {
   "cell_type": "code",
   "execution_count": 3,
   "metadata": {},
   "outputs": [],
   "source": [
    "discrete_dataset_path = r\"C:\\Users\\Usuario\\OneDrive - Universitat de les Illes Balears\\UIB\\Tesi\\Experiments\\DiscreteDataset\"\n",
    "\n",
    "available_tnorms = {}\n",
    "available_tconorms = {}\n",
    "\n",
    "for n in range(1, 8+1):\n",
    "    available_tnorms[n]   = numpy.load(discrete_dataset_path+rf\"\\N={n}\\tnorms.npy\", allow_pickle=True)\n",
    "    available_tconorms[n] = numpy.load(discrete_dataset_path+rf\"\\N={n}\\tconorms.npy\", allow_pickle=True)"
   ]
  },
  {
   "cell_type": "code",
   "execution_count": 3,
   "metadata": {
    "ExecuteTime": {
     "end_time": "2024-09-16T08:34:22.605839200Z",
     "start_time": "2024-09-16T08:34:22.580492500Z"
    }
   },
   "outputs": [],
   "source": [
    "def check_associativitiy(operator: numpy.ndarray, n: int) -> bool:\n",
    "    for x in range(0, n+1):\n",
    "        for y in range(0, n+1):\n",
    "            for z in range(0, n+1):\n",
    "                v1 = operator[y,z]\n",
    "                v2 = operator[x,y]\n",
    "                \n",
    "                if operator[x, v1] != operator[v2, z]:\n",
    "                    return False\n",
    "    return True\n",
    "\n",
    "def generate_uninorms(n: int, available_tnorms: Dict[int, List[numpy.array]], available_tconorms: Dict[int, List[numpy.array]], verbose: bool = False) -> Tuple[List[numpy.array], float]:\n",
    "    verboseprint = print if verbose else lambda *a, **k: None\n",
    "    \n",
    "    available_uninorms = []\n",
    "    start_time = time.time()\n",
    "\n",
    "    for e in range(0, n+1):\n",
    "        num_e = 0\n",
    "        if e == 0:\n",
    "            verboseprint(f\"---------- WORKING WITH e={e} ----------\")\n",
    "            verboseprint(len(list(available_tnorms[n])))\n",
    "            available_uninorms = available_uninorms+list(available_tnorms[n])\n",
    "        elif e == n:\n",
    "            verboseprint(f\"---------- WORKING WITH e={e} ----------\")\n",
    "            verboseprint(len(list(available_tconorms[n])))\n",
    "            available_uninorms = available_uninorms+list(available_tconorms[n])\n",
    "        else:\n",
    "            verboseprint(f\"---------- WORKING WITH e={e} ----------\")\n",
    "            compensation_spaces = [space for space in generate_compensation_spaces(n=n, e=e)]\n",
    "            \n",
    "            for compensation_space in generate_compensation_spaces(n=n, e=e):\n",
    "                for underlying_tnorm in available_tnorms[e]:\n",
    "                    for underlying_tconorm in available_tconorms[n-e]:\n",
    "                        compensation_space_mod = numpy.flipud(compensation_space)\n",
    "\n",
    "                        uninorm_candidate = (-1)*numpy.ones((n+1, n+1), dtype=int)\n",
    "                        uninorm_candidate[0:(e+1), 0:(e+1)] = underlying_tnorm\n",
    "                        uninorm_candidate[e:(n+1), e:(n+1)] = e+underlying_tconorm\n",
    "                        uninorm_candidate[(e+1):(n+1), 0:e] = compensation_space_mod\n",
    "                        uninorm_candidate[0:e, (e+1):(n+1)] = numpy.transpose(compensation_space_mod)\n",
    "\n",
    "                        if check_associativitiy(operator=uninorm_candidate, n=n):\n",
    "                            available_uninorms.append(uninorm_candidate)\n",
    "                            num_e += 1\n",
    "            verboseprint(num_e)\n",
    "    elapsed_time = time.time()-start_time\n",
    "    \n",
    "    return available_uninorms, elapsed_time\n",
    "\n",
    "def count_uninorms(n: int, available_tnorms: Dict[int, List[numpy.array]], available_tconorms: Dict[int, List[numpy.array]], verbose: bool = False) -> Tuple[List[numpy.array], float]:\n",
    "    verboseprint = print if verbose else lambda *a, **k: None\n",
    "    \n",
    "    available_uninorms = 0\n",
    "    start_time = time.time()\n",
    "    \n",
    "    if n%2 == 0:\n",
    "        for e in range(0, int(n/2+1)):\n",
    "            if e == 0:\n",
    "                verboseprint(f\"---------- WORKING WITH e={e} AND e={n} ----------\")\n",
    "                verboseprint(2*len(list(available_tnorms[n])))\n",
    "                available_uninorms = available_uninorms+2*len(list(available_tnorms[n]))\n",
    "            else:\n",
    "                available_uninorms_e = 0\n",
    "                factor = 2\n",
    "                if e == (int(n/2+1)-1):\n",
    "                    factor = 1\n",
    "                \n",
    "                verboseprint(f\"---------- WORKING WITH e={e} AND e={n-e} ----------\")\n",
    "                compensation_spaces = [space for space in generate_compensation_spaces(n=n, e=e)]\n",
    "                \n",
    "                for compensation_space in compensation_spaces:\n",
    "                    for underlying_tnorm in available_tnorms[e]:\n",
    "                        for underlying_tconorm in available_tconorms[n-e]:\n",
    "                            compensation_space_mod = numpy.flipud(compensation_space)\n",
    "\n",
    "                            uninorm_candidate = (-1)*numpy.ones((n+1, n+1), dtype=int)\n",
    "                            uninorm_candidate[0:(e+1), 0:(e+1)] = underlying_tnorm\n",
    "                            uninorm_candidate[e:(n+1), e:(n+1)] = e+underlying_tconorm\n",
    "                            uninorm_candidate[(e+1):(n+1), 0:e] = compensation_space_mod\n",
    "                            uninorm_candidate[0:e, (e+1):(n+1)] = numpy.transpose(compensation_space_mod)\n",
    "\n",
    "                            if check_associativitiy(operator=uninorm_candidate, n=n):\n",
    "                                available_uninorms_e += 1\n",
    "                verboseprint(factor*available_uninorms_e)\n",
    "                available_uninorms += factor*available_uninorms_e\n",
    "    else:\n",
    "        for e in range(0, int((n+1)/2)):\n",
    "            if e == 0:\n",
    "                verboseprint(f\"---------- WORKING WITH e={e} AND e={n} ----------\")\n",
    "                verboseprint(2*len(list(available_tnorms[n])))\n",
    "                available_uninorms = available_uninorms+2*len(list(available_tnorms[n]))\n",
    "            else:\n",
    "                available_uninorms_e = 0\n",
    "                factor = 2\n",
    "                \n",
    "                verboseprint(f\"---------- WORKING WITH e={e} AND e={n-e} ----------\")\n",
    "                compensation_spaces = [space for space in generate_compensation_spaces(n=n, e=e)]\n",
    "                \n",
    "                for compensation_space in compensation_spaces:\n",
    "                    for underlying_tnorm in available_tnorms[e]:\n",
    "                        for underlying_tconorm in available_tconorms[n-e]:\n",
    "                            compensation_space_mod = numpy.flipud(compensation_space)\n",
    "\n",
    "                            uninorm_candidate = (-1)*numpy.ones((n+1, n+1), dtype=int)\n",
    "                            uninorm_candidate[0:(e+1), 0:(e+1)] = underlying_tnorm\n",
    "                            uninorm_candidate[e:(n+1), e:(n+1)] = e+underlying_tconorm\n",
    "                            uninorm_candidate[(e+1):(n+1), 0:e] = compensation_space_mod\n",
    "                            uninorm_candidate[0:e, (e+1):(n+1)] = numpy.transpose(compensation_space_mod)\n",
    "\n",
    "                            if check_associativitiy(operator=uninorm_candidate, n=n):\n",
    "                                available_uninorms_e += 1\n",
    "                verboseprint(factor*available_uninorms_e)\n",
    "                available_uninorms += factor*available_uninorms_e\n",
    "    \n",
    "    elapsed_time = time.time()-start_time\n",
    "    \n",
    "    return available_uninorms, elapsed_time"
   ]
  },
  {
   "cell_type": "code",
   "execution_count": 4,
   "metadata": {
    "ExecuteTime": {
     "end_time": "2024-09-16T08:34:25.380115800Z",
     "start_time": "2024-09-16T08:34:25.355748Z"
    }
   },
   "outputs": [],
   "source": [
    "def detect_neutral_element(uninorm: numpy.ndarray, n: int) -> int:\n",
    "    for e in range(0, n+1):\n",
    "        is_neutral_element = True\n",
    "        x = 0\n",
    "        while (x <= n and is_neutral_element):\n",
    "            if uninorm[x,e] != x:\n",
    "                is_neutral_element = False\n",
    "            x = x+1\n",
    "        if is_neutral_element:\n",
    "            return e            "
   ]
  },
  {
   "cell_type": "code",
   "execution_count": 5,
   "metadata": {
    "ExecuteTime": {
     "end_time": "2024-09-16T08:34:27.985170900Z",
     "start_time": "2024-09-16T08:34:27.647380400Z"
    }
   },
   "outputs": [
    {
     "ename": "NameError",
     "evalue": "name 'available_tnorms' is not defined",
     "output_type": "error",
     "traceback": [
      "\u001B[1;31m---------------------------------------------------------------------------\u001B[0m",
      "\u001B[1;31mNameError\u001B[0m                                 Traceback (most recent call last)",
      "Cell \u001B[1;32mIn[5], line 1\u001B[0m\n\u001B[1;32m----> 1\u001B[0m uninorms_n1, time_n1 \u001B[38;5;241m=\u001B[39m generate_uninorms(n\u001B[38;5;241m=\u001B[39m\u001B[38;5;241m1\u001B[39m, available_tnorms\u001B[38;5;241m=\u001B[39m\u001B[43mavailable_tnorms\u001B[49m, available_tconorms\u001B[38;5;241m=\u001B[39mavailable_tconorms, verbose\u001B[38;5;241m=\u001B[39m\u001B[38;5;28;01mTrue\u001B[39;00m)\n\u001B[0;32m      2\u001B[0m \u001B[38;5;28mprint\u001B[39m(\u001B[38;5;124mf\u001B[39m\u001B[38;5;124m\"\u001B[39m\u001B[38;5;124mWITH n=\u001B[39m\u001B[38;5;132;01m{\u001B[39;00m\u001B[38;5;241m1\u001B[39m\u001B[38;5;132;01m}\u001B[39;00m\u001B[38;5;124m THERE ARE \u001B[39m\u001B[38;5;132;01m{\u001B[39;00m\u001B[38;5;28mlen\u001B[39m(uninorms_n1)\u001B[38;5;132;01m}\u001B[39;00m\u001B[38;5;124m UNINORMS. ELAPSED TIME: \u001B[39m\u001B[38;5;132;01m{\u001B[39;00m\u001B[38;5;28mround\u001B[39m(time_n1,\u001B[38;5;250m \u001B[39m\u001B[38;5;241m4\u001B[39m)\u001B[38;5;132;01m}\u001B[39;00m\u001B[38;5;124m seconds.\u001B[39m\u001B[38;5;124m\"\u001B[39m)\n",
      "\u001B[1;31mNameError\u001B[0m: name 'available_tnorms' is not defined"
     ]
    }
   ],
   "source": [
    "uninorms_n1, time_n1 = generate_uninorms(n=1, available_tnorms=available_tnorms, available_tconorms=available_tconorms, verbose=True)\n",
    "print(f\"WITH n={1} THERE ARE {len(uninorms_n1)} UNINORMS. ELAPSED TIME: {round(time_n1, 4)} seconds.\")"
   ]
  },
  {
   "cell_type": "code",
   "execution_count": 14,
   "metadata": {},
   "outputs": [
    {
     "name": "stdout",
     "output_type": "stream",
     "text": [
      "---------- WORKING WITH e=0 ----------\n",
      "2\n",
      "---------- WORKING WITH e=1 ----------\n",
      "2\n",
      "---------- WORKING WITH e=2 ----------\n",
      "2\n",
      "WITH n=2 THERE ARE 6 UNINORMS. ELAPSED TIME: 0.001 seconds.\n"
     ]
    }
   ],
   "source": [
    "uninorms_n2, time_n2 = generate_uninorms(n=2, available_tnorms=available_tnorms, available_tconorms=available_tconorms, verbose=True)\n",
    "print(f\"WITH n={2} THERE ARE {len(uninorms_n2)} UNINORMS. ELAPSED TIME: {round(time_n2, 4)} seconds.\")"
   ]
  },
  {
   "cell_type": "code",
   "execution_count": 13,
   "metadata": {},
   "outputs": [
    {
     "name": "stdout",
     "output_type": "stream",
     "text": [
      "---------- WORKING WITH e=0 ----------\n",
      "6\n",
      "---------- WORKING WITH e=1 ----------\n",
      "5\n",
      "---------- WORKING WITH e=2 ----------\n",
      "5\n",
      "---------- WORKING WITH e=3 ----------\n",
      "6\n",
      "WITH n=3 THERE ARE 22 UNINORMS. ELAPSED TIME: 0.0021 seconds.\n"
     ]
    }
   ],
   "source": [
    "uninorms_n3, time_n3 = generate_uninorms(n=3, available_tnorms=available_tnorms, available_tconorms=available_tconorms, verbose=True)\n",
    "print(f\"WITH n={3} THERE ARE {len(uninorms_n3)} UNINORMS. ELAPSED TIME: {round(time_n3, 4)} seconds.\")"
   ]
  },
  {
   "cell_type": "code",
   "execution_count": 15,
   "metadata": {},
   "outputs": [
    {
     "name": "stdout",
     "output_type": "stream",
     "text": [
      "---------- WORKING WITH e=0 ----------\n",
      "22\n",
      "---------- WORKING WITH e=1 ----------\n",
      "17\n",
      "---------- WORKING WITH e=2 ----------\n",
      "14\n",
      "---------- WORKING WITH e=3 ----------\n",
      "17\n",
      "---------- WORKING WITH e=4 ----------\n",
      "22\n",
      "WITH n=4 THERE ARE 92 UNINORMS. ELAPSED TIME: 0.016 seconds.\n"
     ]
    }
   ],
   "source": [
    "uninorms_n4, time_n4 = generate_uninorms(n=4, available_tnorms=available_tnorms, available_tconorms=available_tconorms, verbose=True)\n",
    "print(f\"WITH n={4} THERE ARE {len(uninorms_n4)} UNINORMS. ELAPSED TIME: {round(time_n4, 4)} seconds.\")"
   ]
  },
  {
   "cell_type": "code",
   "execution_count": 16,
   "metadata": {},
   "outputs": [
    {
     "name": "stdout",
     "output_type": "stream",
     "text": [
      "---------- WORKING WITH e=0 ----------\n",
      "94\n",
      "---------- WORKING WITH e=1 ----------\n",
      "68\n",
      "---------- WORKING WITH e=2 ----------\n",
      "51\n",
      "---------- WORKING WITH e=3 ----------\n",
      "51\n",
      "---------- WORKING WITH e=4 ----------\n",
      "68\n",
      "---------- WORKING WITH e=5 ----------\n",
      "94\n",
      "WITH n=5 THERE ARE 426 UNINORMS. ELAPSED TIME: 0.1826 seconds.\n"
     ]
    }
   ],
   "source": [
    "uninorms_n5, time_n5 = generate_uninorms(n=5, available_tnorms=available_tnorms, available_tconorms=available_tconorms, verbose=True)\n",
    "print(f\"WITH n={5} THERE ARE {len(uninorms_n5)} UNINORMS. ELAPSED TIME: {round(time_n5, 4)} seconds.\")"
   ]
  },
  {
   "cell_type": "code",
   "execution_count": 31,
   "metadata": {},
   "outputs": [
    {
     "name": "stdout",
     "output_type": "stream",
     "text": [
      "---------- WORKING WITH e=0 ----------\n",
      "451\n",
      "---------- WORKING WITH e=1 ----------\n",
      "308\n",
      "---------- WORKING WITH e=2 ----------\n",
      "217\n",
      "---------- WORKING WITH e=3 ----------\n",
      "194\n",
      "---------- WORKING WITH e=4 ----------\n",
      "217\n",
      "---------- WORKING WITH e=5 ----------\n",
      "308\n",
      "---------- WORKING WITH e=6 ----------\n",
      "451\n",
      "WITH n=6 THERE ARE 2146 UNINORMS. ELAPSED TIME: 5.4807 seconds.\n"
     ]
    }
   ],
   "source": [
    "uninorms_n6, time_n6 = generate_uninorms(n=6, available_tnorms=available_tnorms, available_tconorms=available_tconorms, verbose=True)\n",
    "print(f\"WITH n={6} THERE ARE {len(uninorms_n6)} UNINORMS. ELAPSED TIME: {round(time_n6, 4)} seconds.\")"
   ]
  },
  {
   "cell_type": "code",
   "execution_count": 43,
   "metadata": {},
   "outputs": [
    {
     "name": "stdout",
     "output_type": "stream",
     "text": [
      "---------- WORKING WITH e=0 ----------\n",
      "2386\n",
      "---------- WORKING WITH e=1 ----------\n",
      "1538\n",
      "---------- WORKING WITH e=2 ----------\n",
      "1034\n",
      "---------- WORKING WITH e=3 ----------\n",
      "859\n",
      "---------- WORKING WITH e=4 ----------\n",
      "859\n",
      "---------- WORKING WITH e=5 ----------\n",
      "1034\n",
      "---------- WORKING WITH e=6 ----------\n",
      "1538\n",
      "---------- WORKING WITH e=7 ----------\n",
      "2386\n",
      "WITH n=7 THERE ARE 11634 UNINORMS. ELAPSED TIME: 347.896 seconds.\n"
     ]
    }
   ],
   "source": [
    "uninorms_n7, time_n7 = generate_uninorms(n=7, available_tnorms=available_tnorms, available_tconorms=available_tconorms, verbose=True)\n",
    "print(f\"WITH n={7} THERE ARE {len(uninorms_n7)} UNINORMS. ELAPSED TIME: {round(time_n7, 4)} seconds.\")"
   ]
  },
  {
   "cell_type": "code",
   "execution_count": 46,
   "metadata": {},
   "outputs": [],
   "source": [
    "total_uninorms = {1: uninorms_n1, 2: uninorms_n2, 3: uninorms_n3, 4: uninorms_n4, 5: uninorms_n5, 6: uninorms_n6, 7: uninorms_n7}"
   ]
  },
  {
   "cell_type": "code",
   "execution_count": 53,
   "metadata": {},
   "outputs": [],
   "source": [
    "from discrete_fuzzy_operators.base.operators.binary_operators.discrete.suboperators.fuzzy_discrete_aggregation_operator import DiscreteAggregationBinaryOperator\n",
    "\n",
    "def operator_is_idempotentfree(operator: numpy.ndarray, n: int) -> bool:\n",
    "    if n == 1:\n",
    "        return True\n",
    "    else:\n",
    "        for x in range(1, (n-1)+1):\n",
    "            if operator[x,x] == x:\n",
    "                return False\n",
    "        return True\n",
    "\n",
    "def operator_is_idempotent(operator: numpy.ndarray, n: int) -> bool:\n",
    "    if n == 1:\n",
    "        return True\n",
    "    else:\n",
    "        for x in range(1, (n-1)+1):\n",
    "            if operator[x,x] != x:\n",
    "                return False\n",
    "        return True\n",
    "\n",
    "def uninorm_smooth_underlying_operators(uninorm: numpy.ndarray, n: int):\n",
    "    e = detect_neutral_element(uninorm=uninorm, n=n)\n",
    "    \n",
    "    if e == 0 or e == n:\n",
    "        tnorm_tconorm = DiscreteAggregationBinaryOperator(n=n, operator_matrix=uninorm)\n",
    "        return tnorm_tconorm.is_smooth()\n",
    "   \n",
    "    else:\n",
    "        underlying_tnorm = uninorm[0:(e+1), 0:(e+1)]\n",
    "        underlying_tconorm = uninorm[e:(n+1), e:(n+1)]-e\n",
    "        \n",
    "        tnorm = DiscreteAggregationBinaryOperator(n=e, operator_matrix=underlying_tnorm)\n",
    "        tconorm = DiscreteAggregationBinaryOperator(n=n-e, operator_matrix=underlying_tconorm)\n",
    "\n",
    "        return (tnorm.is_smooth() and tconorm.is_smooth())\n",
    "    \n",
    "def classify_smooth_uninorms(uninorm: numpy.ndarray, n: int):\n",
    "    e = detect_neutral_element(uninorm=uninorm, n=n)\n",
    "    \n",
    "    if e == 0 or e == n:\n",
    "        return operator_is_idempotentfree(uninorm, n) or operator_is_idempotent(uninorm, n)\n",
    "    else:\n",
    "        underlying_tnorm = uninorm[0:(e+1), 0:(e+1)]\n",
    "        underlying_tconorm = uninorm[e:(n+1), e:(n+1)]-e\n",
    "        \n",
    "        tnorm_class = operator_is_idempotentfree(underlying_tnorm, e) or operator_is_idempotent(underlying_tnorm, e)\n",
    "        tconorm_class = operator_is_idempotentfree(underlying_tconorm, n-e) or operator_is_idempotent(underlying_tconorm, n-e)\n",
    "        \n",
    "        return tnorm_class and tconorm_class"
   ]
  },
  {
   "cell_type": "code",
   "execution_count": 54,
   "metadata": {},
   "outputs": [
    {
     "name": "stdout",
     "output_type": "stream",
     "text": [
      "----------------------\n",
      "WORKING WITH n=1\n",
      "Total number of uninorms: 2\n",
      "Total number of uninorms having smooth underlying operators: 2\n",
      "Total number of uninorms having smooth and Archimedean or smooth and idempotent underlying operators: 2\n",
      "----------------------\n",
      "WORKING WITH n=2\n",
      "Total number of uninorms: 6\n",
      "Total number of uninorms having smooth underlying operators: 6\n",
      "Total number of uninorms having smooth and Archimedean or smooth and idempotent underlying operators: 6\n",
      "----------------------\n",
      "WORKING WITH n=3\n",
      "Total number of uninorms: 22\n",
      "Total number of uninorms having smooth underlying operators: 18\n",
      "Total number of uninorms having smooth and Archimedean or smooth and idempotent underlying operators: 14\n",
      "----------------------\n",
      "WORKING WITH n=4\n",
      "Total number of uninorms: 92\n",
      "Total number of uninorms having smooth underlying operators: 54\n",
      "Total number of uninorms having smooth and Archimedean or smooth and idempotent underlying operators: 30\n",
      "----------------------\n",
      "WORKING WITH n=5\n",
      "Total number of uninorms: 426\n",
      "Total number of uninorms having smooth underlying operators: 162\n",
      "Total number of uninorms having smooth and Archimedean or smooth and idempotent underlying operators: 56\n",
      "----------------------\n",
      "WORKING WITH n=6\n",
      "Total number of uninorms: 2146\n",
      "Total number of uninorms having smooth underlying operators: 486\n",
      "Total number of uninorms having smooth and Archimedean or smooth and idempotent underlying operators: 100\n",
      "----------------------\n",
      "WORKING WITH n=7\n",
      "Total number of uninorms: 11634\n",
      "Total number of uninorms having smooth underlying operators: 1458\n",
      "Total number of uninorms having smooth and Archimedean or smooth and idempotent underlying operators: 178\n"
     ]
    }
   ],
   "source": [
    "for n in range(1, 7+1):\n",
    "    uninorms = total_uninorms[n]\n",
    "    smooth_underlying_operators = [uni for uni in uninorms if uninorm_smooth_underlying_operators(uni, n)]\n",
    "    arch_ide_uninorms = [smt_uni for smt_uni in smooth_underlying_operators if classify_smooth_uninorms(smt_uni, n)]\n",
    "    print(\"----------------------\")\n",
    "    print(f\"WORKING WITH n={n}\")\n",
    "    print(f\"Total number of uninorms: {len(uninorms)}\")\n",
    "    print(f\"Total number of uninorms having smooth underlying operators: {len(smooth_underlying_operators)}\")\n",
    "    print(f\"Total number of uninorms having smooth and Archimedean or smooth and idempotent underlying operators: {len(arch_ide_uninorms)}\")"
   ]
  },
  {
   "cell_type": "code",
   "execution_count": 65,
   "metadata": {},
   "outputs": [
    {
     "name": "stdout",
     "output_type": "stream",
     "text": [
      "6\n"
     ]
    }
   ],
   "source": [
    "n = 4\n",
    "uninorms = total_uninorms[n]\n",
    "smooth_underlying_operators = [uni for uni in uninorms if uninorm_smooth_underlying_operators(uni, n)]\n",
    "uninorms_e1 = [uni for uni in smooth_underlying_operators if detect_neutral_element(uninorm=uni, n=n) == 1]\n",
    "special_uninorms_e1  = [uni for uni in uninorms_e1 if classify_smooth_uninorms(uninorm=uni, n=n)]\n",
    "print(len(special_uninorms_e1))"
   ]
  },
  {
   "cell_type": "code",
   "execution_count": 80,
   "metadata": {},
   "outputs": [
    {
     "ename": "TypeError",
     "evalue": "__init__() missing 2 required positional arguments: 'shape' and 'dtype'",
     "output_type": "error",
     "traceback": [
      "\u001B[1;31m---------------------------------------------------------------------------\u001B[0m",
      "\u001B[1;31mTypeError\u001B[0m                                 Traceback (most recent call last)",
      "\u001B[1;32m<ipython-input-80-60cb961dd4e3>\u001B[0m in \u001B[0;36m<module>\u001B[1;34m\u001B[0m\n\u001B[0;32m     63\u001B[0m                                                                             \u001B[0mconjunction\u001B[0m\u001B[1;33m[\u001B[0m\u001B[1;36m5\u001B[0m\u001B[1;33m,\u001B[0m\u001B[1;36m4\u001B[0m\u001B[1;33m]\u001B[0m \u001B[1;33m=\u001B[0m \u001B[0mx24\u001B[0m\u001B[1;33m\u001B[0m\u001B[1;33m\u001B[0m\u001B[0m\n\u001B[0;32m     64\u001B[0m \u001B[1;33m\u001B[0m\u001B[0m\n\u001B[1;32m---> 65\u001B[1;33m                                                                             \u001B[0mconjunctions\u001B[0m\u001B[1;33m.\u001B[0m\u001B[0mappend\u001B[0m\u001B[1;33m(\u001B[0m\u001B[0mconjunction\u001B[0m\u001B[1;33m)\u001B[0m\u001B[1;33m\u001B[0m\u001B[1;33m\u001B[0m\u001B[0m\n\u001B[0m\u001B[0;32m     66\u001B[0m \u001B[1;33m\u001B[0m\u001B[0m\n\u001B[0;32m     67\u001B[0m \u001B[0mprint\u001B[0m\u001B[1;33m(\u001B[0m\u001B[0mcount\u001B[0m\u001B[1;33m)\u001B[0m\u001B[1;33m\u001B[0m\u001B[1;33m\u001B[0m\u001B[0m\n",
      "\u001B[1;31mTypeError\u001B[0m: __init__() missing 2 required positional arguments: 'shape' and 'dtype'"
     ]
    }
   ],
   "source": [
    "\n",
    "def second_generator(x14:int,x15:int,x16:int,x17:int,x18:int,n:int):\n",
    "    for x19 in range(max(x14,x18), n+1):\n",
    "        for x20 in range(max(x15,x19), n+1):\n",
    "            for x21 in range(x16, n+1):\n",
    "                for x22 in range(max(x17,x21), n+1):\n",
    "                    for x23 in range(max(x18,x22), n+1):\n",
    "                        for x24 in range(max(x19,x23), n+1):\n",
    "                            yield x19, x20, x21, x22, x23, x24\n",
    "\n",
    "n = 5\n",
    "conjunctions = []\n",
    "\n",
    "count = 0\n",
    "for x1 in range(0, n+1):\n",
    "    for x2 in range(x1, n+1):\n",
    "        for x3 in range(x2, n+1):\n",
    "            for x4 in range(x3, n+1):\n",
    "                for x5 in range(x4, n+1):\n",
    "                    for x6 in range(x1, n+1):\n",
    "                        for x7 in range(max(x2,x6), n+1):\n",
    "                            for x8 in range(max(x3,x7), n+1):\n",
    "                                for x9 in range(max(x4,x8), n+1):\n",
    "                                    for x10 in range(max(x5,x9), n+1):\n",
    "                                        for x11 in range(x6, n+1):\n",
    "                                            for x12 in range(max(x7,x11), n+1):\n",
    "                                                for x13 in range(max(x8,x12), n+1):\n",
    "                                                    for x14 in range(max(x9,x13), n+1):\n",
    "                                                        for x15 in range(max(x10,x14), n+1):\n",
    "                                                            for x16 in range(x11, n+1):\n",
    "                                                                for x17 in range(max(x12,x16), n+1):\n",
    "                                                                    for x18 in range(max(x13,x17), n+1):\n",
    "                                                                        for x19, x20, x21, x22, x23, x24 in second_generator(x14,x15,x16,x17,x18,n):\n",
    "                                                                            count += 1\n",
    "                                                                            \n",
    "                                                                            conjunction = numpy.zeros((n+1, n+1),dtype=numpy.int8)\n",
    "                                                                            conjunction[1,1] = x1\n",
    "                                                                            conjunction[1,2] = x2\n",
    "                                                                            conjunction[1,3] = x3\n",
    "                                                                            conjunction[1,4] = x4\n",
    "                                                                            conjunction[1,5] = x5\n",
    "                                                                            \n",
    "                                                                            conjunction[2,1] = x6\n",
    "                                                                            conjunction[2,2] = x7\n",
    "                                                                            conjunction[2,3] = x8\n",
    "                                                                            conjunction[2,4] = x9\n",
    "                                                                            conjunction[2,5] = x10\n",
    "                                                                            \n",
    "                                                                            conjunction[3,1] = x11\n",
    "                                                                            conjunction[3,2] = x12\n",
    "                                                                            conjunction[3,3] = x13\n",
    "                                                                            conjunction[3,4] = x14\n",
    "                                                                            conjunction[3,5] = x15\n",
    "                                                                            \n",
    "                                                                            conjunction[4,1] = x16\n",
    "                                                                            conjunction[4,2] = x17\n",
    "                                                                            conjunction[4,3] = x18\n",
    "                                                                            conjunction[4,4] = x19\n",
    "                                                                            conjunction[4,5] = x20\n",
    "                                                                            \n",
    "                                                                            conjunction[5,1] = x21\n",
    "                                                                            conjunction[5,2] = x22\n",
    "                                                                            conjunction[5,3] = x23\n",
    "                                                                            conjunction[5,4] = x24\n",
    "                                                                            \n",
    "                                                                            conjunctions.append(conjunction)\n",
    "                                                                            \n",
    "print(count)                                                                                     "
   ]
  },
  {
   "cell_type": "code",
   "execution_count": 71,
   "metadata": {},
   "outputs": [
    {
     "ename": "MemoryError",
     "evalue": "Unable to allocate 33.6 GiB for an array with shape (250409016, 6, 6) and data type int32",
     "output_type": "error",
     "traceback": [
      "\u001B[1;31m---------------------------------------------------------------------------\u001B[0m",
      "\u001B[1;31mMemoryError\u001B[0m                               Traceback (most recent call last)",
      "\u001B[1;32m<ipython-input-71-b7e44695e73f>\u001B[0m in \u001B[0;36m<module>\u001B[1;34m\u001B[0m\n\u001B[1;32m----> 1\u001B[1;33m \u001B[0mnumpy\u001B[0m\u001B[1;33m.\u001B[0m\u001B[0msave\u001B[0m\u001B[1;33m(\u001B[0m\u001B[1;34mr\"C:\\Users\\Usuario\\Desktop\\conjunctions.npy\"\u001B[0m\u001B[1;33m,\u001B[0m \u001B[0mconjunctions\u001B[0m\u001B[1;33m,\u001B[0m \u001B[0mallow_pickle\u001B[0m\u001B[1;33m=\u001B[0m\u001B[1;32mTrue\u001B[0m\u001B[1;33m)\u001B[0m\u001B[1;33m\u001B[0m\u001B[1;33m\u001B[0m\u001B[0m\n\u001B[0m",
      "\u001B[1;32m~\\anaconda3\\envs\\discrete_fuzzy_operators\\lib\\site-packages\\numpy\\core\\overrides.py\u001B[0m in \u001B[0;36msave\u001B[1;34m(*args, **kwargs)\u001B[0m\n",
      "\u001B[1;32m~\\anaconda3\\envs\\discrete_fuzzy_operators\\lib\\site-packages\\numpy\\lib\\npyio.py\u001B[0m in \u001B[0;36msave\u001B[1;34m(file, arr, allow_pickle, fix_imports)\u001B[0m\n\u001B[0;32m    516\u001B[0m \u001B[1;33m\u001B[0m\u001B[0m\n\u001B[0;32m    517\u001B[0m     \u001B[1;32mwith\u001B[0m \u001B[0mfile_ctx\u001B[0m \u001B[1;32mas\u001B[0m \u001B[0mfid\u001B[0m\u001B[1;33m:\u001B[0m\u001B[1;33m\u001B[0m\u001B[1;33m\u001B[0m\u001B[0m\n\u001B[1;32m--> 518\u001B[1;33m         \u001B[0marr\u001B[0m \u001B[1;33m=\u001B[0m \u001B[0mnp\u001B[0m\u001B[1;33m.\u001B[0m\u001B[0masanyarray\u001B[0m\u001B[1;33m(\u001B[0m\u001B[0marr\u001B[0m\u001B[1;33m)\u001B[0m\u001B[1;33m\u001B[0m\u001B[1;33m\u001B[0m\u001B[0m\n\u001B[0m\u001B[0;32m    519\u001B[0m         format.write_array(fid, arr, allow_pickle=allow_pickle,\n\u001B[0;32m    520\u001B[0m                            pickle_kwargs=dict(fix_imports=fix_imports))\n",
      "\u001B[1;31mMemoryError\u001B[0m: Unable to allocate 33.6 GiB for an array with shape (250409016, 6, 6) and data type int32"
     ]
    }
   ],
   "source": [
    "numpy.save(r\"C:\\Users\\Usuario\\Desktop\\conjunctions.npy\", conjunctions, allow_pickle=True)"
   ]
  },
  {
   "cell_type": "code",
   "execution_count": 75,
   "metadata": {},
   "outputs": [
    {
     "name": "stdout",
     "output_type": "stream",
     "text": [
      "250409016\n"
     ]
    }
   ],
   "source": [
    "print(len(conjunctions))"
   ]
  },
  {
   "cell_type": "code",
   "execution_count": null,
   "metadata": {},
   "outputs": [],
   "source": []
  }
 ],
 "metadata": {
  "kernelspec": {
   "display_name": "Python 3 (ipykernel)",
   "language": "python",
   "name": "python3"
  },
  "language_info": {
   "codemirror_mode": {
    "name": "ipython",
    "version": 3
   },
   "file_extension": ".py",
   "mimetype": "text/x-python",
   "name": "python",
   "nbconvert_exporter": "python",
   "pygments_lexer": "ipython3",
   "version": "3.9.13"
  }
 },
 "nbformat": 4,
 "nbformat_minor": 4
}
