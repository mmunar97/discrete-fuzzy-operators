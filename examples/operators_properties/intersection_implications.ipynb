{
 "cells": [
  {
   "cell_type": "code",
   "execution_count": 1,
   "metadata": {},
   "outputs": [],
   "source": [
    "from discrete_fuzzy_operators.base.operators.binary_operators.discrete.fuzzy_discrete_binary_operator import DiscreteBinaryOperator\n",
    "from discrete_fuzzy_operators.base.operators.binary_operators.discrete.suboperators.fuzzy_discrete_implication_suboperators.r_implication import RImplication\n",
    "from discrete_fuzzy_operators.base.operators.binary_operators.discrete.suboperators.fuzzy_discrete_implication_suboperators.sn_implication import SNImplication\n",
    "from discrete_fuzzy_operators.base.operators.binary_operators.discrete.suboperators.fuzzy_discrete_implication_operator import DiscreteImplicationOperator\n",
    "\n",
    "from discrete_fuzzy_operators.base.operators.binary_operators.discrete.suboperators.fuzzy_discrete_aggregation_suboperators.tnorm import Tnorm\n",
    "from discrete_fuzzy_operators.base.operators.binary_operators.discrete.suboperators.fuzzy_discrete_aggregation_suboperators.tconorm import Tconorm\n",
    "\n",
    "from discrete_fuzzy_operators.builtin_operators.discrete.negations import NegationExamples\n",
    "from discrete_fuzzy_operators.base.operators.unary_operators.suboperators.fuzzy_negation_operator import DiscreteNegation\n",
    "\n",
    "from enum import Enum\n",
    "\n",
    "from tqdm.notebook import tqdm\n",
    "from typing import List\n",
    "\n",
    "import numpy"
   ]
  },
  {
   "cell_type": "code",
   "execution_count": 2,
   "metadata": {},
   "outputs": [],
   "source": [
    "dataset_path = r\"C:\\Users\\Usuario\\OneDrive - Universitat de les Illes Balears\\UIB\\Tesi\\Experiments\\DiscreteDataset\""
   ]
  },
  {
   "cell_type": "code",
   "execution_count": 3,
   "metadata": {},
   "outputs": [
    {
     "data": {
      "application/vnd.jupyter.widget-view+json": {
       "model_id": "c6f261ae173c41da8d7df00d7388922b",
       "version_major": 2,
       "version_minor": 0
      },
      "text/plain": [
       "Loading implications:   0%|          | 0/208152 [00:00<?, ?it/s]"
      ]
     },
     "metadata": {},
     "output_type": "display_data"
    },
    {
     "data": {
      "application/vnd.jupyter.widget-view+json": {
       "model_id": "1f45ebbf2a3c4fc2ab0deedb69aa4494",
       "version_major": 2,
       "version_minor": 0
      },
      "text/plain": [
       "Loading t-norms:   0%|          | 0/22 [00:00<?, ?it/s]"
      ]
     },
     "metadata": {},
     "output_type": "display_data"
    },
    {
     "data": {
      "application/vnd.jupyter.widget-view+json": {
       "model_id": "920ad74d37ba4fbd88071d194df99aaf",
       "version_major": 2,
       "version_minor": 0
      },
      "text/plain": [
       "Loading t-conorms:   0%|          | 0/22 [00:00<?, ?it/s]"
      ]
     },
     "metadata": {},
     "output_type": "display_data"
    },
    {
     "data": {
      "application/vnd.jupyter.widget-view+json": {
       "model_id": "9ada3995b92340ce9e45cfebd027e950",
       "version_major": 2,
       "version_minor": 0
      },
      "text/plain": [
       "Loading negations:   0%|          | 0/35 [00:00<?, ?it/s]"
      ]
     },
     "metadata": {},
     "output_type": "display_data"
    }
   ],
   "source": [
    "n = 4\n",
    "conjunctions = numpy.load(dataset_path+rf\"\\N={n}\\conjunctions.npy\", allow_pickle=True)\n",
    "implications = numpy.array([(n-numpy.flipud(conjunction)) for conjunction in tqdm(conjunctions, desc=\"Loading implications\")])\n",
    "    \n",
    "tnorms_raw = numpy.load(dataset_path+rf\"\\N={n}\\tnorms.npy\", allow_pickle=True)\n",
    "tnorms = [Tnorm(n=n, operator_matrix=tnorm_raw, check_properties_in_load=False) for tnorm_raw in tqdm(tnorms_raw, desc=\"Loading t-norms\")]\n",
    "    \n",
    "tconorms_raw = numpy.load(dataset_path+rf\"\\N={n}\\tconorms.npy\", allow_pickle=True)\n",
    "tconorms = [Tconorm(n=n, operator_matrix=tconorm_raw, check_properties_in_load=False) for tconorm_raw in tqdm(tconorms_raw, desc=\"Loading t-conorms\")]\n",
    "    \n",
    "negations_raw = numpy.load(dataset_path+rf\"\\N={n}\\negations.npy\", allow_pickle=True)\n",
    "negations = [DiscreteNegation(n=n, operator_vector=negation_raw, check_properties_in_load=False) for negation_raw in tqdm(negations_raw, desc=\"Loading negations\")]"
   ]
  },
  {
   "cell_type": "markdown",
   "metadata": {},
   "source": [
    "# Generació de totes les R-implicacions"
   ]
  },
  {
   "cell_type": "code",
   "execution_count": 4,
   "metadata": {},
   "outputs": [
    {
     "name": "stdout",
     "output_type": "stream",
     "text": [
      "22\n"
     ]
    }
   ],
   "source": [
    "def array_is_in_list(array: numpy.array, list_of_arrays: numpy.array) -> bool:\n",
    "    for element in list_of_arrays:\n",
    "        if (numpy.array_equal(element-array, numpy.zeros_like(array))):\n",
    "            return True\n",
    "    return False\n",
    "\n",
    "r_implications = []\n",
    "\n",
    "for tnorm in tnorms:\n",
    "    r_implication = RImplication(n=n, operator_tnorm=tnorm)\n",
    "    if not array_is_in_list(array=r_implication.operator_matrix, list_of_arrays=r_implications):\n",
    "        r_implications.append(r_implication.operator_matrix)\n",
    "\n",
    "print(len(r_implications))"
   ]
  },
  {
   "cell_type": "code",
   "execution_count": 5,
   "metadata": {},
   "outputs": [
    {
     "name": "stdout",
     "output_type": "stream",
     "text": [
      "22\n"
     ]
    }
   ],
   "source": [
    "r_implications2 = []\n",
    "for implication_raw in implications:\n",
    "    implication = DiscreteImplicationOperator(n=n, operator_matrix=implication_raw)\n",
    "    \n",
    "    if implication.satisfies_exchange_principle() and implication.satisfies_neutrality_principle() and implication.satisfies_ordering_principle():\n",
    "        r_implications2.append(implication_raw)\n",
    "        \n",
    "print(len(r_implications2))"
   ]
  },
  {
   "cell_type": "markdown",
   "metadata": {},
   "source": [
    "# Generació de totes les $(S,N)$-implicacions"
   ]
  },
  {
   "cell_type": "code",
   "execution_count": 6,
   "metadata": {},
   "outputs": [
    {
     "name": "stdout",
     "output_type": "stream",
     "text": [
      "22\n",
      "382\n"
     ]
    }
   ],
   "source": [
    "s_implications = []\n",
    "sn_implications = []\n",
    "\n",
    "for tconorm in tconorms:\n",
    "    strong_negation = NegationExamples.get_negation(negation=NegationExamples.CLASSIC, n=n)\n",
    "    s_implication = SNImplication(n=n, operator_tconorm=tconorm, operator_negation=strong_negation)\n",
    "    s_implications.append(s_implication.operator_matrix)\n",
    "    \n",
    "    for negation in negations:\n",
    "        sn_implication = SNImplication(n=n, operator_tconorm=tconorm, operator_negation=negation)\n",
    "        \n",
    "        if not array_is_in_list(array=sn_implication.operator_matrix, list_of_arrays=sn_implications):\n",
    "            sn_implications.append(sn_implication.operator_matrix)\n",
    "\n",
    "print(len(s_implications))\n",
    "print(len(sn_implications))"
   ]
  },
  {
   "cell_type": "markdown",
   "metadata": {},
   "source": [
    "# Classificació d'implicacions"
   ]
  },
  {
   "cell_type": "code",
   "execution_count": 7,
   "metadata": {},
   "outputs": [],
   "source": [
    "class ImplicationClass(Enum):\n",
    "    R_IMPLICATION = 0\n",
    "    SN_IMPLICATION = 1\n",
    "    R_SN_IMPLICATION = 2\n",
    "    NONE_CLASS = -10\n",
    "    \n",
    "def classify_implication(implication: numpy.array, r_implications: List[numpy.array], sn_implications: List[numpy.array]) -> ImplicationClass:\n",
    "    # Check if the given implication is an R-implication.\n",
    "    is_r_implication = False\n",
    "    if array_is_in_list(array=implication, list_of_arrays=r_implications):\n",
    "        is_r_implication = True\n",
    "    \n",
    "    # Check if the given implication is an (S,N)-implication.\n",
    "    is_sn_implication = False\n",
    "    if array_is_in_list(array=implication, list_of_arrays=sn_implications):\n",
    "        is_sn_implication = True\n",
    "    \n",
    "    if is_r_implication and not is_sn_implication:\n",
    "        return ImplicationClass.R_IMPLICATION\n",
    "    elif not is_r_implication and is_sn_implication:\n",
    "        return ImplicationClass.SN_IMPLICATION\n",
    "    elif is_r_implication and is_sn_implication:\n",
    "        return ImplicationClass.R_SN_IMPLICATION\n",
    "    else:\n",
    "        return ImplicationClass.NONE_CLASS"
   ]
  },
  {
   "cell_type": "code",
   "execution_count": 8,
   "metadata": {},
   "outputs": [
    {
     "name": "stdout",
     "output_type": "stream",
     "text": [
      "The number of discrete (S,N)-implications and R-implications, for n=4, is: 6\n"
     ]
    }
   ],
   "source": [
    "number_r_sn_implications = 0\n",
    "candidates = r_implications+sn_implications\n",
    "\n",
    "for implication in candidates:\n",
    "    if classify_implication(implication, r_implications, sn_implications) == ImplicationClass.R_SN_IMPLICATION:\n",
    "        number_r_sn_implications += 1\n",
    "\n",
    "print(rf\"The number of discrete (S,N)-implications and R-implications, for n={n}, is: {number_r_sn_implications}\")"
   ]
  },
  {
   "cell_type": "code",
   "execution_count": null,
   "metadata": {},
   "outputs": [],
   "source": []
  }
 ],
 "metadata": {
  "kernelspec": {
   "display_name": "Python 3",
   "language": "python",
   "name": "python3"
  },
  "language_info": {
   "codemirror_mode": {
    "name": "ipython",
    "version": 3
   },
   "file_extension": ".py",
   "mimetype": "text/x-python",
   "name": "python",
   "nbconvert_exporter": "python",
   "pygments_lexer": "ipython3",
   "version": "3.8.5"
  }
 },
 "nbformat": 4,
 "nbformat_minor": 1
}
