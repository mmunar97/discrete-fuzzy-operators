{
 "cells": [
  {
   "cell_type": "code",
   "execution_count": 1,
   "metadata": {},
   "outputs": [],
   "source": [
    "from typing import List, Generator\n",
    "import numpy\n",
    "from math import comb\n",
    "\n",
    "def generate_restrictions(upper_bounds: List[int], max_size: int, recursion_depth: int = 0, restrictions: List[int] = None) -> Generator[List[int], None, None]:\n",
    "    \"\"\"\n",
    "    Generates all possible vectors of size n whose entries are increasing and each value is less than or equal to the\n",
    "    restriction of the same position.\n",
    "    Args:\n",
    "        upper_bounds: A list of integers, representing the restrictions of the previous row.\n",
    "        max_size: An integer, representing the dimension of the finite chain.\n",
    "        recursion_depth: An integer, representing the position of the vector that is being generated.\n",
    "        restrictions: A list of integers, representing the temporal vector to be generated.\n",
    "    Returns:\n",
    "        A generator of increasing vectors whose entries satisfy upper restrictions.\n",
    "    \"\"\"\n",
    "    if restrictions is None:\n",
    "        restrictions = []\n",
    "\n",
    "    if recursion_depth == 0:\n",
    "        for x in range(0, upper_bounds[recursion_depth]+1):\n",
    "            temp_restrictions = restrictions.copy()\n",
    "            temp_restrictions.append(x)\n",
    "            yield from generate_restrictions(upper_bounds=upper_bounds, max_size=max_size, recursion_depth=recursion_depth + 1, restrictions=temp_restrictions)\n",
    "    elif 0 < recursion_depth < max_size:\n",
    "        for x in range(restrictions[recursion_depth - 1], upper_bounds[recursion_depth]+1):\n",
    "            temp_restrictions = restrictions.copy()\n",
    "            temp_restrictions.append(x)\n",
    "            yield from generate_restrictions(upper_bounds=upper_bounds, max_size=max_size, recursion_depth=recursion_depth + 1, restrictions=temp_restrictions)\n",
    "    else:\n",
    "        if restrictions != upper_bounds:\n",
    "            restrictions.reverse()\n",
    "            yield restrictions\n",
    "\n",
    "def counter1(n: int, restrictions: List[int]) -> float:\n",
    "    mat = numpy.zeros((n, n))\n",
    "    for s in range(1, n+1):\n",
    "        for t in range(1, n+1):\n",
    "            mat[s-1, t-1] = comb(n+restrictions[t-1], n-s+t)\n",
    "\n",
    "    return round(numpy.linalg.det(mat))\n",
    "\n",
    "def counter2(n: int, restrictions: List[int]) -> float:\n",
    "    if is_stationary_sequence(vector=restrictions):\n",
    "        return comb(n+restrictions[0]-1, restrictions[0])\n",
    "    else:\n",
    "        sum_value = counter1(n, restrictions)\n",
    "        rev_restrictions = restrictions.copy()\n",
    "        rev_restrictions.reverse()\n",
    "        for vector in generate_restrictions(upper_bounds=rev_restrictions, max_size=n):\n",
    "            sum_value -= counter2(n, vector)\n",
    "        return sum_value\n",
    "\n",
    "def is_stationary_sequence(vector: List[int]) -> bool:\n",
    "    for i in range(1, len(vector)):\n",
    "        if vector[i] != 0:\n",
    "            return False\n",
    "    return True\n",
    "\n",
    "def identity(n: int) -> List[int]:\n",
    "    return [i for i in range(n, 0, -1)]\n",
    "\n",
    "def counter_np(n: int) -> int:\n",
    "    return counter2(n=n, restrictions=identity(n=n))"
   ]
  },
  {
   "cell_type": "code",
   "execution_count": 2,
   "metadata": {},
   "outputs": [
    {
     "name": "stdout",
     "output_type": "stream",
     "text": [
      "[0, 0, 0]\n",
      "[1, 0, 0]\n",
      "[2, 0, 0]\n",
      "[3, 0, 0]\n",
      "[1, 1, 0]\n",
      "[2, 1, 0]\n",
      "[3, 1, 0]\n",
      "[2, 2, 0]\n"
     ]
    }
   ],
   "source": [
    "for vec in generate_restrictions([0,2,3], 3):\n",
    "    print(vec)"
   ]
  },
  {
   "cell_type": "code",
   "execution_count": 3,
   "metadata": {},
   "outputs": [
    {
     "name": "stdout",
     "output_type": "stream",
     "text": [
      "246\n"
     ]
    }
   ],
   "source": [
    "# IP n=3\n",
    "value = 0\n",
    "n = 3+1\n",
    "for x1 in range(0, n):\n",
    "    for x2 in range(0, n):\n",
    "        for x3 in range(max(x1,x2), n):\n",
    "            for x4 in range(0, n):\n",
    "                for x5 in range(max(x2,x4), n):\n",
    "                    value += 1\n",
    "print(value)"
   ]
  },
  {
   "cell_type": "code",
   "execution_count": 4,
   "metadata": {},
   "outputs": [
    {
     "name": "stdout",
     "output_type": "stream",
     "text": [
      "21307\n"
     ]
    }
   ],
   "source": [
    "# IP n=4\n",
    "value=0\n",
    "n=4+1\n",
    "for x1 in range(0,n):\n",
    "    for x2 in range(0,n):\n",
    "        for x3 in range(max(x1,x2),n):\n",
    "            for x4 in range(0,n):\n",
    "                for x5 in range(max(x2,x4),n):\n",
    "                    for x6 in range(max(x3,x5),n):\n",
    "                        for x7 in range(0,n):\n",
    "                            for x8 in range(max(x4,x7),n):\n",
    "                                for x9 in range(max(x5,x8),n):\n",
    "                                    value += 1\n",
    "print(value)"
   ]
  },
  {
   "cell_type": "code",
   "execution_count": 5,
   "metadata": {},
   "outputs": [],
   "source": [
    "from math import factorial\n",
    "\n",
    "def staircase_plane_partition(r: int, l: int, k: int, m: int) -> int:\n",
    "    \"\"\"\n",
    "    Computes the number of staircase plane partition with r rows, step k, initial length l and maximum value m.\n",
    "\n",
    "    Args:\n",
    "        r: The number of rows of the plane partition.\n",
    "        l: The initial length of the first row.\n",
    "        k: The decrementing step of the length of each row.\n",
    "        m: The maximum value of the plane partition.\n",
    "\n",
    "    Returns:\n",
    "        An integer, representing the number of staircase plane partitions.\n",
    "    \"\"\"\n",
    "    x1 = 1\n",
    "    for i in range(1, r+1):\n",
    "        x1 *= factorial(m+l-k*i-1)/factorial(m+i-2)\n",
    "\n",
    "    x2 = 1\n",
    "    for i in range(1, r+1):\n",
    "        up_fact = upper_factorial(m+(l-k*i)/(k+1), i-1)\n",
    "        x2 *= up_fact/factorial(r+l-i*(k+1))\n",
    "\n",
    "    x3 = (k+1)**comb(r, 2)\n",
    "\n",
    "    x4 = 1\n",
    "    for i in range(2, r):\n",
    "        x4 *= i**(r-i)\n",
    "\n",
    "    return round(x1*x2*x3*x4)\n",
    "\n",
    "def upper_factorial(z: float, i: int) -> float:\n",
    "    \"\"\"\n",
    "    Computes the upper factorial of a positive real number with respect to a positive integer.\n",
    "    The upper factorial is defined as <z>_i = Prod_{j=0}^{i-1} (z-j).\n",
    "\n",
    "    Args:\n",
    "        z: A positive real number.\n",
    "        i: A positive integer.\n",
    "\n",
    "    Returns:\n",
    "        The upper factorial of z with respect to i.\n",
    "    \"\"\"\n",
    "    fact = 1\n",
    "    for k in range(0, i):\n",
    "        fact *= (z+k)\n",
    "    return fact"
   ]
  },
  {
   "cell_type": "code",
   "execution_count": 6,
   "metadata": {},
   "outputs": [
    {
     "name": "stdout",
     "output_type": "stream",
     "text": [
      "1\n",
      "9\n",
      "246\n",
      "21307\n",
      "5967884\n",
      "5464753020\n",
      "16464650143150\n"
     ]
    }
   ],
   "source": [
    "for i in range(1, 7+1):\n",
    "    n = i\n",
    "    s = staircase_plane_partition(r=n, l=n+1, k=1, m=n+1)-staircase_plane_partition(r=n, l=n+1, k=1, m=n)\n",
    "    print(s)"
   ]
  },
  {
   "cell_type": "markdown",
   "metadata": {},
   "source": [
    "## Suavitat"
   ]
  },
  {
   "cell_type": "code",
   "execution_count": 1,
   "metadata": {},
   "outputs": [
    {
     "ename": "ModuleNotFoundError",
     "evalue": "No module named 'discrete_fuzzy_operators'",
     "output_type": "error",
     "traceback": [
      "\u001b[1;31m---------------------------------------------------------------------------\u001b[0m",
      "\u001b[1;31mModuleNotFoundError\u001b[0m                       Traceback (most recent call last)",
      "\u001b[1;32m<ipython-input-1-8405be7b3569>\u001b[0m in \u001b[0;36m<module>\u001b[1;34m\u001b[0m\n\u001b[0;32m      1\u001b[0m \u001b[1;32mimport\u001b[0m \u001b[0mnumpy\u001b[0m\u001b[1;33m\u001b[0m\u001b[1;33m\u001b[0m\u001b[0m\n\u001b[0;32m      2\u001b[0m \u001b[1;33m\u001b[0m\u001b[0m\n\u001b[1;32m----> 3\u001b[1;33m \u001b[1;32mfrom\u001b[0m \u001b[0mdiscrete_fuzzy_operators\u001b[0m\u001b[1;33m.\u001b[0m\u001b[0mbase\u001b[0m\u001b[1;33m.\u001b[0m\u001b[0moperators\u001b[0m\u001b[1;33m.\u001b[0m\u001b[0mbinary_operators\u001b[0m\u001b[1;33m.\u001b[0m\u001b[0mdiscrete\u001b[0m\u001b[1;33m.\u001b[0m\u001b[0msuboperators\u001b[0m\u001b[1;33m.\u001b[0m\u001b[0mfuzzy_discrete_aggregation_suboperators\u001b[0m\u001b[1;33m.\u001b[0m\u001b[0mconjunction\u001b[0m \u001b[1;32mimport\u001b[0m \u001b[0mConjunction\u001b[0m\u001b[1;33m\u001b[0m\u001b[1;33m\u001b[0m\u001b[0m\n\u001b[0m\u001b[0;32m      4\u001b[0m \u001b[1;33m\u001b[0m\u001b[0m\n\u001b[0;32m      5\u001b[0m \u001b[0mn\u001b[0m \u001b[1;33m=\u001b[0m \u001b[1;36m2\u001b[0m\u001b[1;33m+\u001b[0m\u001b[1;36m1\u001b[0m\u001b[1;33m\u001b[0m\u001b[1;33m\u001b[0m\u001b[0m\n",
      "\u001b[1;31mModuleNotFoundError\u001b[0m: No module named 'discrete_fuzzy_operators'"
     ]
    }
   ],
   "source": [
    "import numpy\n",
    "\n",
    "from discrete_fuzzy_operators.base.operators.binary_operators.discrete.suboperators.fuzzy_discrete_aggregation_suboperators.conjunction import Conjunction\n",
    "\n",
    "n = 2+1\n",
    "smt = 0\n",
    "smt_arch = 0\n",
    "\n",
    "template = numpy.zeros((n,n), dtype=int)\n",
    "template[2,2] = 2\n",
    "\n",
    "for x1 in range(0, n):\n",
    "    for x2 in range(x1, n):\n",
    "        for x3 in range(x1, n):\n",
    "            new_conj = template.copy()\n",
    "            new_conj[1,1] = x1\n",
    "            new_conj[1,2] = x2\n",
    "            new_conj[2,1] = x3\n",
    "            \n",
    "            conj = Conjunction(n=2, operator_matrix=new_conj)\n",
    "            if conj.is_smooth():\n",
    "                smt += 1\n",
    "                \n",
    "                if conj.is_archimedean() and conj.is_commutative():\n",
    "                    smt_arch += 1\n",
    "                    print(f\"Archimedean:\")\n",
    "                    \n",
    "                    print(\"\\t Conjunction:\")\n",
    "                    print(f\"{new_conj}\")\n",
    "                    \n",
    "                    print(\"\\t Associated ASM:\")\n",
    "                    print(f\"{conj.get_asm_representation()}\")\n",
    "                else:\n",
    "                    print(f\"Not Archimedean:\")\n",
    "                    \n",
    "                    print(\"\\t Conjunction:\")\n",
    "                    print(f\"{new_conj}\")\n",
    "                    \n",
    "                    print(\"\\t Associated ASM:\")\n",
    "                    print(f\"{conj.get_asm_representation()}\")\n",
    "                    \n",
    "print(smt)\n",
    "print(smt_arch)"
   ]
  },
  {
   "cell_type": "code",
   "execution_count": 6,
   "metadata": {},
   "outputs": [
    {
     "name": "stdout",
     "output_type": "stream",
     "text": [
      "Archimedean:\n",
      "\t Conjunction:\n",
      "[[0 0 0 0]\n",
      " [0 0 0 1]\n",
      " [0 0 1 2]\n",
      " [0 1 2 3]]\n",
      "\t Associated ASM:\n",
      "[[0 0 1]\n",
      " [0 1 0]\n",
      " [1 0 0]]\n",
      "Not Archimedean:\n",
      "\t Conjunction:\n",
      "[[0 0 0 0]\n",
      " [0 0 0 1]\n",
      " [0 1 1 2]\n",
      " [0 1 2 3]]\n",
      "\t Associated ASM:\n",
      "[[0 1 0]\n",
      " [0 0 1]\n",
      " [1 0 0]]\n",
      "Not Archimedean:\n",
      "\t Conjunction:\n",
      "[[0 0 0 0]\n",
      " [0 0 1 1]\n",
      " [0 0 1 2]\n",
      " [0 1 2 3]]\n",
      "\t Associated ASM:\n",
      "[[0 0 1]\n",
      " [1 0 0]\n",
      " [0 1 0]]\n",
      "Not Archimedean:\n",
      "\t Conjunction:\n",
      "[[0 0 0 0]\n",
      " [0 0 1 1]\n",
      " [0 1 1 2]\n",
      " [0 1 2 3]]\n",
      "\t Associated ASM:\n",
      "[[ 0  1  0]\n",
      " [ 1 -1  1]\n",
      " [ 0  1  0]]\n",
      "Not Archimedean:\n",
      "\t Conjunction:\n",
      "[[0 0 0 0]\n",
      " [0 0 1 1]\n",
      " [0 1 2 2]\n",
      " [0 1 2 3]]\n",
      "\t Associated ASM:\n",
      "[[0 1 0]\n",
      " [1 0 0]\n",
      " [0 0 1]]\n",
      "Not Archimedean:\n",
      "\t Conjunction:\n",
      "[[0 0 0 0]\n",
      " [0 1 1 1]\n",
      " [0 1 1 2]\n",
      " [0 1 2 3]]\n",
      "\t Associated ASM:\n",
      "[[1 0 0]\n",
      " [0 0 1]\n",
      " [0 1 0]]\n",
      "Not Archimedean:\n",
      "\t Conjunction:\n",
      "[[0 0 0 0]\n",
      " [0 1 1 1]\n",
      " [0 1 2 2]\n",
      " [0 1 2 3]]\n",
      "\t Associated ASM:\n",
      "[[1 0 0]\n",
      " [0 1 0]\n",
      " [0 0 1]]\n",
      "7\n",
      "1\n"
     ]
    }
   ],
   "source": [
    "n = 3+1\n",
    "smt = 0\n",
    "smt_arch = 0\n",
    "\n",
    "template = numpy.zeros((n,n), dtype=int)\n",
    "template[3,3] = 3\n",
    "\n",
    "for x1 in range(0, n):\n",
    "    for x2 in range(x1, n):\n",
    "        for x3 in range(x2, n):\n",
    "            for x4 in range(x1, n):\n",
    "                for x5 in range(max(x2,x4), n):\n",
    "                    for x6 in range(max(x3,x5), n):\n",
    "                        for x7 in range(x4, n):\n",
    "                            for x8 in range(max(x5,x7), n):\n",
    "                                new_conj = template.copy()\n",
    "                                new_conj[1,1] = x1\n",
    "                                new_conj[1,2] = x2\n",
    "                                new_conj[1,3] = x3\n",
    "                                new_conj[2,1] = x4\n",
    "                                new_conj[2,2] = x5\n",
    "                                new_conj[2,3] = x6\n",
    "                                new_conj[3,1] = x7\n",
    "                                new_conj[3,2] = x8\n",
    "\n",
    "                                conj = Conjunction(n=3, operator_matrix=new_conj)\n",
    "                                if conj.is_smooth():\n",
    "                                    smt += 1\n",
    "                                    \n",
    "                                    if conj.is_archimedean() and conj.is_commutative():\n",
    "                                        smt_arch += 1\n",
    "                                        print(f\"Archimedean:\")\n",
    "\n",
    "                                        print(\"\\t Conjunction:\")\n",
    "                                        print(f\"{new_conj}\")\n",
    "\n",
    "                                        print(\"\\t Associated ASM:\")\n",
    "                                        print(f\"{conj.get_asm_representation()}\")\n",
    "                                    else:\n",
    "                                        print(f\"Not Archimedean:\")\n",
    "\n",
    "                                        print(\"\\t Conjunction:\")\n",
    "                                        print(f\"{new_conj}\")\n",
    "\n",
    "                                        print(\"\\t Associated ASM:\")\n",
    "                                        print(f\"{conj.get_asm_representation()}\")\n",
    "                                                      \n",
    "print(smt)\n",
    "print(smt_arch)"
   ]
  },
  {
   "cell_type": "code",
   "execution_count": 9,
   "metadata": {
    "pycharm": {
     "is_executing": true
    }
   },
   "outputs": [
    {
     "name": "stdout",
     "output_type": "stream",
     "text": [
      "42\n",
      "7\n"
     ]
    }
   ],
   "source": [
    "n = 4+1\n",
    "smt = 0\n",
    "smt_arch = 0\n",
    "\n",
    "template = numpy.zeros((n,n), dtype=int)\n",
    "template[4,4] = 4\n",
    "\n",
    "for x1 in range(0, n):\n",
    "    for x2 in range(x1, n):\n",
    "        for x3 in range(x2, n):\n",
    "            for x4 in range(x3, n):\n",
    "                for x5 in range(x1, n):\n",
    "                    for x6 in range(max(x2,x5), n):\n",
    "                        for x7 in range(max(x3,x6), n):\n",
    "                            for x8 in range(max(x4,x7), n):\n",
    "                                for x9 in range(x5, n):\n",
    "                                    for x10 in range(max(x6, x9), n):\n",
    "                                        for x11 in range(max(x7,x10), n):\n",
    "                                            for x12 in range(max(x8,x11), n):\n",
    "                                                for x13 in range(x9, n):\n",
    "                                                    for x14 in range(max(x10,x13), n):\n",
    "                                                        for x15 in range(max(x11, x14), n):\n",
    "                                                            new_conj = template.copy()\n",
    "                                                            new_conj[1,1] = x1\n",
    "                                                            new_conj[1,2] = x2\n",
    "                                                            new_conj[1,3] = x3\n",
    "                                                            new_conj[1,4] = x4\n",
    "                                                            \n",
    "                                                            new_conj[2,1] = x5\n",
    "                                                            new_conj[2,2] = x6\n",
    "                                                            new_conj[2,3] = x7\n",
    "                                                            new_conj[2,4] = x8\n",
    "                                                            \n",
    "                                                            new_conj[3,1] = x9\n",
    "                                                            new_conj[3,2] = x10\n",
    "                                                            new_conj[3,3] = x11\n",
    "                                                            new_conj[3,4] = x12\n",
    "                                                            \n",
    "                                                            new_conj[4,1] = x13\n",
    "                                                            new_conj[4,2] = x14\n",
    "                                                            new_conj[4,3] = x15\n",
    "\n",
    "                                                            conj = Conjunction(n=4, operator_matrix=new_conj)\n",
    "                                                            \n",
    "                                                            if conj.is_smooth():\n",
    "                                                                \n",
    "                                                                smt += 1\n",
    "                                                                \n",
    "                                                                if conj.is_archimedean():\n",
    "                                                                    smt_arch += 1\n",
    "                                                            \n",
    "\n",
    "                                \n",
    "print(smt)\n",
    "print(smt_arch)"
   ]
  },
  {
   "cell_type": "code",
   "execution_count": 10,
   "metadata": {
    "pycharm": {
     "is_executing": true
    }
   },
   "outputs": [
    {
     "name": "stdout",
     "output_type": "stream",
     "text": [
      "429\n",
      "42\n"
     ]
    }
   ],
   "source": [
    "from typing import Tuple\n",
    "from discrete_fuzzy_operators.base.operators.binary_operators.discrete.suboperators.fuzzy_discrete_aggregation_suboperators.conjunction import Conjunction\n",
    "\n",
    "def initial_restrictions(n: int) -> Tuple[int, int, int, int, int]:\n",
    "    for x1 in range(0, 1+1):\n",
    "        for x2 in range(x1, 2+1):\n",
    "            for x3 in range(x2, 3+1):\n",
    "                for x4 in range(x3, 4+1):\n",
    "                    for x6 in range(x1, 1+1):\n",
    "                        yield x1, x2, x3, x4, x6\n",
    "\n",
    "n = 5+1\n",
    "smt = 0\n",
    "smt_arch = 0\n",
    "\n",
    "template = numpy.zeros((n,n), dtype=int)\n",
    "template[5,5] = 5\n",
    "\n",
    "for x1, x2, x3, x4, x6 in initial_restrictions(n):\n",
    "    for x7 in range(max(x2,x6), 2+1):\n",
    "        for x8 in range(max(x3,x7), 3+1):\n",
    "            for x9 in range(max(x4,x8), 4+1):\n",
    "                for x11 in range(x6, 1+1):\n",
    "                    for x12 in range(max(x7,x11), 2+1):\n",
    "                        for x13 in range(max(x8,x12), 3+1):\n",
    "                            for x14 in range(max(x9,x13), 4+1):\n",
    "                                for x16 in range(x11, 1+1):\n",
    "                                    for x17 in range(max(x12,x16), 2+1):\n",
    "                                        for x18 in range(max(x13,x17), 3+1):\n",
    "                                            for x19 in range(max(x14, x18), 4+1):\n",
    "                                                \n",
    "                                                new_conj = template.copy()\n",
    "                                                new_conj[1,1] = x1\n",
    "                                                new_conj[1,2] = x2\n",
    "                                                new_conj[1,3] = x3\n",
    "                                                new_conj[1,4] = x4\n",
    "                                                new_conj[1,5] = 1\n",
    "\n",
    "                                                new_conj[2,1] = x6\n",
    "                                                new_conj[2,2] = x7\n",
    "                                                new_conj[2,3] = x8\n",
    "                                                new_conj[2,4] = x9\n",
    "                                                new_conj[2,5] = 2\n",
    "\n",
    "                                                new_conj[3,1] = x11\n",
    "                                                new_conj[3,2] = x12\n",
    "                                                new_conj[3,3] = x13\n",
    "                                                new_conj[3,4] = x14\n",
    "                                                new_conj[3,5] = 3\n",
    "\n",
    "                                                new_conj[4,1] = x16\n",
    "                                                new_conj[4,2] = x17\n",
    "                                                new_conj[4,3] = x18\n",
    "                                                new_conj[4,4] = x19\n",
    "                                                new_conj[4,5] = 4\n",
    "\n",
    "                                                new_conj[5,1] = 1\n",
    "                                                new_conj[5,2] = 2\n",
    "                                                new_conj[5,3] = 3\n",
    "                                                new_conj[5,4] = 4\n",
    "\n",
    "                                                conj = Conjunction(n=5, operator_matrix=new_conj)\n",
    "                                                \n",
    "                                                if conj.is_smooth():\n",
    "                                                    smt += 1\n",
    "                                                    \n",
    "                                                    if conj.is_archimedean():\n",
    "                                                        smt_arch += 1\n",
    "                                                    \n",
    "                                                \n",
    "\n",
    "                                \n",
    "                                \n",
    "print(smt)\n",
    "print(smt_arch)"
   ]
  },
  {
   "cell_type": "code",
   "execution_count": null,
   "metadata": {
    "pycharm": {
     "is_executing": true
    }
   },
   "outputs": [],
   "source": [
    "from math import factorial\n",
    "\n",
    "for n in range(1, 10+1):\n",
    "    value = 1\n",
    "    for k in range(0, n-1+1):\n",
    "        value *= factorial(3*k+1)/factorial(n+k)\n",
    "    print(round(value))"
   ]
  },
  {
   "cell_type": "markdown",
   "metadata": {},
   "source": [
    "## CB"
   ]
  },
  {
   "cell_type": "code",
   "execution_count": null,
   "metadata": {
    "pycharm": {
     "is_executing": true
    }
   },
   "outputs": [],
   "source": [
    "n = 2+1\n",
    "\n",
    "cb_count = 0\n",
    "for x1 in range(0, 1+1):\n",
    "    for x2 in range(x1, n):\n",
    "        for x3 in range(x1, 1+1):\n",
    "            cb_count += 1\n",
    "print(cb_count)"
   ]
  },
  {
   "cell_type": "code",
   "execution_count": null,
   "metadata": {
    "pycharm": {
     "is_executing": true
    }
   },
   "outputs": [],
   "source": [
    "n = 3+1\n",
    "\n",
    "cb_count = 0\n",
    "\n",
    "for x1 in range(0, 1+1):\n",
    "    for x2 in range(x1, 2+1):\n",
    "        for x3 in range(x2, 3+1):\n",
    "            for x4 in range(x1, 1+1):\n",
    "                for x5 in range(max(x2, x4), 2+1):\n",
    "                    for x6 in range(max(x3, x5), 3+1):\n",
    "                        for x7 in range(x4, 1+1):\n",
    "                            for x8 in range(max(x5, x7), 2+1):\n",
    "                                cb_count += 1\n",
    "print(cb_count)"
   ]
  },
  {
   "cell_type": "markdown",
   "metadata": {},
   "source": [
    "## COMMUTATIVITAT I NP"
   ]
  },
  {
   "cell_type": "code",
   "execution_count": null,
   "metadata": {
    "pycharm": {
     "is_executing": true
    }
   },
   "outputs": [],
   "source": [
    "count = 0\n",
    "for x1 in range(0, 1+1):\n",
    "    for x2 in range(x1, 1+1):\n",
    "        for x3 in range(x2, 2+1):\n",
    "            count += 1\n",
    "print(count)"
   ]
  },
  {
   "cell_type": "code",
   "execution_count": null,
   "metadata": {
    "pycharm": {
     "is_executing": true
    }
   },
   "outputs": [],
   "source": [
    "count = 0\n",
    "for x1 in range(0, 1+1):\n",
    "    for x2 in range(x1, 1+1):\n",
    "        for x3 in range(x2, 2+1):\n",
    "            for x4 in range(x2, 1+1):\n",
    "                for x5 in range(max(x3,x4), 2+1):\n",
    "                    for x6 in range(x5, 3+1):\n",
    "                        count += 1\n",
    "print(count)"
   ]
  },
  {
   "cell_type": "code",
   "execution_count": null,
   "metadata": {
    "pycharm": {
     "is_executing": true
    }
   },
   "outputs": [],
   "source": [
    "count = 0\n",
    "for x1 in range(0, 1+1):\n",
    "    for x2 in range(x1, 1+1):\n",
    "        for x3 in range(x2, 2+1):\n",
    "            for x4 in range(x2, 1+1):\n",
    "                for x5 in range(max(x3,x4), 2+1):\n",
    "                    for x6 in range(x5, 3+1):\n",
    "                        for x7 in range(x4, 1+1):\n",
    "                            for x8 in range(max(x5, x7), 2+1):\n",
    "                                for x9 in range(max(x6, x8), 3+1):\n",
    "                                    for x10 in range(x9, 4+1):\n",
    "                                        count += 1\n",
    "print(count)"
   ]
  },
  {
   "cell_type": "code",
   "execution_count": null,
   "metadata": {
    "pycharm": {
     "is_executing": true
    }
   },
   "outputs": [],
   "source": []
  }
 ],
 "metadata": {
  "kernelspec": {
   "display_name": "discrete_fuzzy_operators",
   "language": "python",
   "name": "discrete_fuzzy_operators"
  },
  "language_info": {
   "codemirror_mode": {
    "name": "ipython",
    "version": 3
   },
   "file_extension": ".py",
   "mimetype": "text/x-python",
   "name": "python",
   "nbconvert_exporter": "python",
   "pygments_lexer": "ipython3",
   "version": "3.8.5"
  }
 },
 "nbformat": 4,
 "nbformat_minor": 1
}
